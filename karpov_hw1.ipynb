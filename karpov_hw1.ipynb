{
 "cells": [
  {
   "cell_type": "code",
   "execution_count": 1,
   "id": "420bd3e9",
   "metadata": {},
   "outputs": [],
   "source": [
    "age = 19\n",
    "name = 'Dima'"
   ]
  },
  {
   "cell_type": "code",
   "execution_count": 2,
   "id": "5ba91f6f",
   "metadata": {},
   "outputs": [
    {
     "name": "stdout",
     "output_type": "stream",
     "text": [
      "19 Dima\n"
     ]
    }
   ],
   "source": [
    "print(age, name)"
   ]
  },
  {
   "cell_type": "code",
   "execution_count": 3,
   "id": "b68a3604",
   "metadata": {},
   "outputs": [],
   "source": [
    "user_info = ['Dima', 'Klim', 80000.5, 2]"
   ]
  },
  {
   "cell_type": "code",
   "execution_count": 4,
   "id": "109f444c",
   "metadata": {},
   "outputs": [
    {
     "data": {
      "text/plain": [
       "['Dima', 'Klim', 80000.5, 2]"
      ]
     },
     "execution_count": 4,
     "metadata": {},
     "output_type": "execute_result"
    }
   ],
   "source": [
    "user_info"
   ]
  },
  {
   "cell_type": "code",
   "execution_count": 5,
   "id": "cae39a9d",
   "metadata": {},
   "outputs": [
    {
     "data": {
      "text/plain": [
       "list"
      ]
     },
     "execution_count": 5,
     "metadata": {},
     "output_type": "execute_result"
    }
   ],
   "source": [
    "type(user_info)"
   ]
  },
  {
   "cell_type": "code",
   "execution_count": 6,
   "id": "f5846601",
   "metadata": {},
   "outputs": [],
   "source": [
    "salaries = [42, 100, 70, 80]"
   ]
  },
  {
   "cell_type": "code",
   "execution_count": 7,
   "id": "40d1180a",
   "metadata": {},
   "outputs": [],
   "source": [
    "first = salaries[0]"
   ]
  },
  {
   "cell_type": "code",
   "execution_count": 8,
   "id": "48b1bb4c",
   "metadata": {},
   "outputs": [
    {
     "data": {
      "text/plain": [
       "42"
      ]
     },
     "execution_count": 8,
     "metadata": {},
     "output_type": "execute_result"
    }
   ],
   "source": [
    "first"
   ]
  },
  {
   "cell_type": "code",
   "execution_count": 9,
   "id": "2798596d",
   "metadata": {},
   "outputs": [],
   "source": [
    "users = []"
   ]
  },
  {
   "cell_type": "code",
   "execution_count": 10,
   "id": "47c3c515",
   "metadata": {},
   "outputs": [],
   "source": [
    "users.append('Voronov')"
   ]
  },
  {
   "cell_type": "code",
   "execution_count": 11,
   "id": "5a2bfb43",
   "metadata": {},
   "outputs": [],
   "source": [
    "users.append(42)"
   ]
  },
  {
   "cell_type": "code",
   "execution_count": 12,
   "id": "5bfddf7b",
   "metadata": {},
   "outputs": [
    {
     "data": {
      "text/plain": [
       "['Voronov', 42]"
      ]
     },
     "execution_count": 12,
     "metadata": {},
     "output_type": "execute_result"
    }
   ],
   "source": [
    "users"
   ]
  },
  {
   "cell_type": "code",
   "execution_count": 13,
   "id": "1c8d9568",
   "metadata": {},
   "outputs": [
    {
     "data": {
      "text/plain": [
       "2"
      ]
     },
     "execution_count": 13,
     "metadata": {},
     "output_type": "execute_result"
    }
   ],
   "source": [
    "len(users)"
   ]
  },
  {
   "cell_type": "code",
   "execution_count": 14,
   "id": "ecafb00d",
   "metadata": {},
   "outputs": [],
   "source": [
    "user_ages = [10, 18, 21, 35, 42, 27, 12, 16]"
   ]
  },
  {
   "cell_type": "code",
   "execution_count": 15,
   "id": "3c0fe391",
   "metadata": {},
   "outputs": [
    {
     "name": "stdout",
     "output_type": "stream",
     "text": [
      "21\n",
      "35\n",
      "42\n",
      "27\n"
     ]
    }
   ],
   "source": [
    "for age in user_ages:\n",
    "    if age > 18:\n",
    "        print(age)"
   ]
  },
  {
   "cell_type": "code",
   "execution_count": 16,
   "id": "6a45674a",
   "metadata": {},
   "outputs": [],
   "source": [
    "worker = ['Olya', 'Silyutina', 350000, 3]"
   ]
  },
  {
   "cell_type": "code",
   "execution_count": 17,
   "id": "9607f57d",
   "metadata": {},
   "outputs": [],
   "source": [
    "user_name, user_family = worker[:2]\n",
    "if worker[3] < 2:\n",
    "    position = 'junior'\n",
    "elif 2 <= worker[3] <= 5:\n",
    "    position = 'middle'\n",
    "else:\n",
    "    position = 'senior'\n",
    "status = f'{user_name} {user_family} is {position}'"
   ]
  },
  {
   "cell_type": "code",
   "execution_count": 18,
   "id": "7c6f930a",
   "metadata": {},
   "outputs": [
    {
     "data": {
      "text/plain": [
       "'Olya Silyutina is middle'"
      ]
     },
     "execution_count": 18,
     "metadata": {},
     "output_type": "execute_result"
    }
   ],
   "source": [
    "status"
   ]
  },
  {
   "cell_type": "code",
   "execution_count": 19,
   "id": "6bdab0f7",
   "metadata": {},
   "outputs": [],
   "source": [
    "values = [12, 134, 10, 47, 100, 20, 50, 160, 210]"
   ]
  },
  {
   "cell_type": "code",
   "execution_count": 20,
   "id": "6290f156",
   "metadata": {},
   "outputs": [],
   "source": [
    "tens = []"
   ]
  },
  {
   "cell_type": "code",
   "execution_count": 21,
   "id": "c0a8c75d",
   "metadata": {},
   "outputs": [],
   "source": [
    "for value in values:\n",
    "    if value % 10 == 0:\n",
    "        tens.append(value)"
   ]
  },
  {
   "cell_type": "code",
   "execution_count": 22,
   "id": "146acdb5",
   "metadata": {},
   "outputs": [
    {
     "data": {
      "text/plain": [
       "[10, 100, 20, 50, 160, 210]"
      ]
     },
     "execution_count": 22,
     "metadata": {},
     "output_type": "execute_result"
    }
   ],
   "source": [
    "tens"
   ]
  },
  {
   "cell_type": "code",
   "execution_count": 23,
   "id": "2bb2a005",
   "metadata": {},
   "outputs": [],
   "source": [
    "workers = [['Ivan', 'Ivanov', 100000, 2], ['Petr', 'Petrov', 150000, 2], ['Sidor', 'Sidorov', 200000, 3]]"
   ]
  },
  {
   "cell_type": "code",
   "execution_count": 24,
   "id": "664a93a9",
   "metadata": {},
   "outputs": [
    {
     "name": "stdout",
     "output_type": "stream",
     "text": [
      "Ivan Ivanov is middle\n",
      "Petr Petrov is middle\n",
      "Sidor Sidorov is middle\n"
     ]
    }
   ],
   "source": [
    "for worker in workers:\n",
    "    user_name, user_family = worker[:2]\n",
    "    if worker[3] < 2:\n",
    "        position = 'junior'\n",
    "    elif 2 <= worker[3] <= 5:\n",
    "        position = 'middle'\n",
    "    else:\n",
    "        position = 'senior'\n",
    "    print(f'{user_name} {user_family} is {position}')"
   ]
  },
  {
   "cell_type": "code",
   "execution_count": 25,
   "id": "6a6e8db0",
   "metadata": {},
   "outputs": [],
   "source": [
    "N = 10\n",
    "n = 0\n",
    "dn = 2\n",
    "lst = []\n",
    "while n <= N:\n",
    "    lst.append(n)\n",
    "    n += dn"
   ]
  },
  {
   "cell_type": "code",
   "execution_count": 26,
   "id": "f7b5aea3",
   "metadata": {},
   "outputs": [
    {
     "data": {
      "text/plain": [
       "[0, 2, 4, 6, 8, 10]"
      ]
     },
     "execution_count": 26,
     "metadata": {},
     "output_type": "execute_result"
    }
   ],
   "source": [
    "lst"
   ]
  },
  {
   "cell_type": "code",
   "execution_count": 27,
   "id": "b17b6304",
   "metadata": {},
   "outputs": [
    {
     "data": {
      "text/plain": [
       "12"
      ]
     },
     "execution_count": 27,
     "metadata": {},
     "output_type": "execute_result"
    }
   ],
   "source": [
    "n"
   ]
  },
  {
   "cell_type": "code",
   "execution_count": 28,
   "id": "b03cffcb",
   "metadata": {},
   "outputs": [],
   "source": [
    "salaries_dict = {\n",
    "    'name' : 'Masha',\n",
    "    'surname' : 'Volkova',\n",
    "    'age' : 25,\n",
    "    'salary' : 60000,\n",
    "    'position' : 'junior'\n",
    "}"
   ]
  },
  {
   "cell_type": "code",
   "execution_count": 29,
   "id": "2e3a754c",
   "metadata": {},
   "outputs": [
    {
     "data": {
      "text/plain": [
       "{'name': 'Masha',\n",
       " 'surname': 'Volkova',\n",
       " 'age': 25,\n",
       " 'salary': 60000,\n",
       " 'position': 'junior'}"
      ]
     },
     "execution_count": 29,
     "metadata": {},
     "output_type": "execute_result"
    }
   ],
   "source": [
    "salaries_dict"
   ]
  },
  {
   "cell_type": "code",
   "execution_count": 31,
   "id": "d058e886",
   "metadata": {},
   "outputs": [
    {
     "data": {
      "text/plain": [
       "25"
      ]
     },
     "execution_count": 31,
     "metadata": {},
     "output_type": "execute_result"
    }
   ],
   "source": [
    "salaries_dict['age']"
   ]
  },
  {
   "cell_type": "code",
   "execution_count": 32,
   "id": "62d559e3",
   "metadata": {},
   "outputs": [
    {
     "data": {
      "text/plain": [
       "'Masha'"
      ]
     },
     "execution_count": 32,
     "metadata": {},
     "output_type": "execute_result"
    }
   ],
   "source": [
    "salaries_dict['name']"
   ]
  },
  {
   "cell_type": "code",
   "execution_count": 36,
   "id": "6fedc6aa",
   "metadata": {},
   "outputs": [],
   "source": [
    "users_dict = {\n",
    "    'mvolkova' : {\n",
    "        'name' : 'Masha',\n",
    "        'surname' : 'Volkova',\n",
    "        'age' : 25,\n",
    "        'salary' : 60000,\n",
    "        'position' : 'junior'\n",
    "    },\n",
    "    'pvoronov' : {\n",
    "        'name' : 'Peter',\n",
    "        'surname' : 'Voronov',\n",
    "        'age' : 27,\n",
    "        'salary' : 100000,\n",
    "        'position' : 'junior'\n",
    "    },\n",
    "    'pparker' : {\n",
    "        'name' : 'Peter',\n",
    "        'surname' : 'Parker',\n",
    "        'age' : 35,\n",
    "        'salary' : 150000,\n",
    "        'position' : 'middle'\n",
    "    },\n",
    "    'akarpov' : {\n",
    "        'name' : 'Anatoly',\n",
    "        'surname' : 'Karpov',\n",
    "        'age' : 30,\n",
    "        'salary' :2560000,\n",
    "        'position' : 'senior'\n",
    "    }\n",
    "}"
   ]
  },
  {
   "cell_type": "code",
   "execution_count": 37,
   "id": "290d1f5e",
   "metadata": {},
   "outputs": [
    {
     "data": {
      "text/plain": [
       "{'name': 'Peter',\n",
       " 'surname': 'Parker',\n",
       " 'age': 35,\n",
       " 'salary': 150000,\n",
       " 'position': 'middle'}"
      ]
     },
     "execution_count": 37,
     "metadata": {},
     "output_type": "execute_result"
    }
   ],
   "source": [
    "users_dict['pparker']"
   ]
  },
  {
   "cell_type": "code",
   "execution_count": null,
   "id": "0b0ac5f0",
   "metadata": {},
   "outputs": [],
   "source": []
  }
 ],
 "metadata": {
  "kernelspec": {
   "display_name": "Python 3",
   "language": "python",
   "name": "python3"
  },
  "language_info": {
   "codemirror_mode": {
    "name": "ipython",
    "version": 3
   },
   "file_extension": ".py",
   "mimetype": "text/x-python",
   "name": "python",
   "nbconvert_exporter": "python",
   "pygments_lexer": "ipython3",
   "version": "3.8.8"
  }
 },
 "nbformat": 4,
 "nbformat_minor": 5
}
